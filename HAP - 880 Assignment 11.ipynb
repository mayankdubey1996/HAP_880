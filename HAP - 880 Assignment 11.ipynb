{
 "cells": [
  {
   "cell_type": "code",
   "execution_count": 0,
   "metadata": {
    "colab": {},
    "colab_type": "code",
    "id": "dn_ABV54ev_I"
   },
   "outputs": [],
   "source": [
    "import pandas as pd\n",
    "import numpy as np\n",
    "import matplotlib.pyplot as plt\n",
    "import tensorflow as tf\n",
    "from tensorflow import keras\n",
    "from tensorflow import feature_column\n",
    "from tensorflow.keras import layers\n",
    "from sklearn.metrics import accuracy_score,roc_auc_score"
   ]
  },
  {
   "cell_type": "code",
   "execution_count": 2,
   "metadata": {
    "colab": {
     "base_uri": "https://localhost:8080/",
     "height": 121
    },
    "colab_type": "code",
    "id": "ZgI6O1V8e132",
    "outputId": "ba13f7ed-a50a-4a03-bcb4-d37b6a1bc876"
   },
   "outputs": [
    {
     "name": "stdout",
     "output_type": "stream",
     "text": [
      "Go to this URL in a browser: https://accounts.google.com/o/oauth2/auth?client_id=947318989803-6bn6qk8qdgf4n4g3pfee6491hc0brc4i.apps.googleusercontent.com&redirect_uri=urn%3aietf%3awg%3aoauth%3a2.0%3aoob&response_type=code&scope=email%20https%3a%2f%2fwww.googleapis.com%2fauth%2fdocs.test%20https%3a%2f%2fwww.googleapis.com%2fauth%2fdrive%20https%3a%2f%2fwww.googleapis.com%2fauth%2fdrive.photos.readonly%20https%3a%2f%2fwww.googleapis.com%2fauth%2fpeopleapi.readonly\n",
      "\n",
      "Enter your authorization code:\n",
      "··········\n",
      "Mounted at /content/drive\n"
     ]
    }
   ],
   "source": [
    "from google.colab import drive\n",
    "drive.mount('/content/drive')"
   ]
  },
  {
   "cell_type": "code",
   "execution_count": 0,
   "metadata": {
    "colab": {},
    "colab_type": "code",
    "id": "X4CFAmF2e5G4"
   },
   "outputs": [],
   "source": [
    "!cp \"/content/drive/My Drive/data/exlix_binary_claims_w_dates.csv\" \"exlix_binary_claims_w_dates.csv\""
   ]
  },
  {
   "cell_type": "code",
   "execution_count": 4,
   "metadata": {
    "colab": {
     "base_uri": "https://localhost:8080/",
     "height": 34
    },
    "colab_type": "code",
    "id": "vO9WpHVXfN5w",
    "outputId": "1c6f81ac-00bf-4cef-c736-0920e4a40e18"
   },
   "outputs": [
    {
     "name": "stdout",
     "output_type": "stream",
     "text": [
      "drive  exlix_binary_claims_w_dates.csv\tsample_data\n"
     ]
    }
   ],
   "source": [
    "!ls"
   ]
  },
  {
   "cell_type": "code",
   "execution_count": 0,
   "metadata": {
    "colab": {},
    "colab_type": "code",
    "id": "dOu8kgXCg-le"
   },
   "outputs": [],
   "source": [
    "df=pd.read_csv('exlix_binary_claims_w_dates.csv')"
   ]
  },
  {
   "cell_type": "code",
   "execution_count": 6,
   "metadata": {
    "colab": {
     "base_uri": "https://localhost:8080/",
     "height": 252
    },
    "colab_type": "code",
    "id": "xu9S0pQ_hQa9",
    "outputId": "d8cf7960-998c-4bd5-c2e7-1ed2ade9d928"
   },
   "outputs": [
    {
     "data": {
      "text/plain": [
       "<bound method NDFrame.head of          patient_id  claim_days_cum  ELIX1  ...  ELIX27  ELIX28  ELIX29\n",
       "0         PAT110736             749      0  ...       0       0       0\n",
       "1          PAT24603             906      0  ...       0       0       0\n",
       "2          PAT24603             961      0  ...       0       0       0\n",
       "3          PAT43862             310      0  ...       0       0       0\n",
       "4         PAT114707             349      0  ...       0       0       0\n",
       "...             ...             ...    ...  ...     ...     ...     ...\n",
       "12132098   PAT94329             933      0  ...       0       0       0\n",
       "12132099   PAT94329             933      0  ...       0       0       0\n",
       "12132100   PAT94329            1093      0  ...       0       0       0\n",
       "12132101  PAT125886             856      0  ...       0       0       0\n",
       "12132102  PAT125886             884      0  ...       0       0       0\n",
       "\n",
       "[12132103 rows x 31 columns]>"
      ]
     },
     "execution_count": 6,
     "metadata": {
      "tags": []
     },
     "output_type": "execute_result"
    }
   ],
   "source": [
    "df.head"
   ]
  },
  {
   "cell_type": "code",
   "execution_count": 0,
   "metadata": {
    "colab": {},
    "colab_type": "code",
    "id": "46E1ZVkPiDh6"
   },
   "outputs": [],
   "source": [
    "from sklearn.model_selection import train_test_split\n",
    "\n",
    "pts = df['patient_id'].unique()\n",
    "\n",
    "trp, tsp = train_test_split(pts)\n",
    "tr = df[df['patient_id'].isin(trp)]\n",
    "ts = df[df['patient_id'].isin(tsp)]\n",
    "\n",
    "back_window = 20 # this is number of claims\n",
    "shift = 1 # this is number of claims\n",
    "# forward window defined in terms of days\n",
    "forward_window = 365"
   ]
  },
  {
   "cell_type": "code",
   "execution_count": 0,
   "metadata": {
    "colab": {},
    "colab_type": "code",
    "id": "_9TdYOqbiDzQ"
   },
   "outputs": [],
   "source": [
    "x_tr = [] # inputs\n",
    "y_tr = [] # outputs\n",
    "for p in trp[:10000]:\n",
    "    pt = tr[tr['patient_id'] == p]\n",
    "    for t in range(back_window, len(pt)):\n",
    "        # input variables\n",
    "        x_tr.append(pt[t-back_window:t].iloc[:,2:])\n",
    "    \n",
    "        # output variable\n",
    "        t_days = pt.iloc[t].claim_days_cum\n",
    "        y_tr.append(len(pt[(pt['claim_days_cum'] > t_days) & (pt['claim_days_cum'] <= t_days + 365) ]))\n",
    "    \n",
    "        #stop looping if past year 2\n",
    "        if pt.iloc[t].claim_days_cum > 730:\n",
    "            break   "
   ]
  },
  {
   "cell_type": "code",
   "execution_count": 0,
   "metadata": {
    "colab": {},
    "colab_type": "code",
    "id": "21cnGr6miEA6"
   },
   "outputs": [],
   "source": [
    "x_ts = [] # inputs\n",
    "y_ts = [] # outputs\n",
    "for p in tsp[:1000]:\n",
    "    pt = ts[ts['patient_id'] == p]\n",
    "    for t in range(back_window, len(pt)):\n",
    "        # input variables\n",
    "        x_ts.append(pt[t-back_window:t].iloc[:,2:])\n",
    "    \n",
    "        # output variable\n",
    "        t_days = pt.iloc[t].claim_days_cum\n",
    "        y_ts.append(len(pt[(pt['claim_days_cum'] > t_days) & (pt['claim_days_cum'] <= t_days + 365) ]))\n",
    "    \n",
    "        #stop looping if past year 2\n",
    "        if pt.iloc[t].claim_days_cum > 730:\n",
    "            break"
   ]
  },
  {
   "cell_type": "code",
   "execution_count": 0,
   "metadata": {
    "colab": {},
    "colab_type": "code",
    "id": "1oKVgKowiENl"
   },
   "outputs": [],
   "source": [
    "x_tr_vals = np.array([xx.values for xx in x_tr])\n",
    "x_ts_vals = np.array([xx.values for xx in x_ts])"
   ]
  },
  {
   "cell_type": "code",
   "execution_count": 0,
   "metadata": {
    "colab": {},
    "colab_type": "code",
    "id": "R13uQOtHiEaI"
   },
   "outputs": [],
   "source": [
    "y_tr = (np.array(y_tr) >= 100).astype('int')"
   ]
  },
  {
   "cell_type": "code",
   "execution_count": 0,
   "metadata": {
    "colab": {},
    "colab_type": "code",
    "id": "wlbogsVPiQHG"
   },
   "outputs": [],
   "source": [
    "y_ts = (np.array(y_ts) >= 100).astype('int')"
   ]
  },
  {
   "cell_type": "code",
   "execution_count": 13,
   "metadata": {
    "colab": {
     "base_uri": "https://localhost:8080/",
     "height": 34
    },
    "colab_type": "code",
    "id": "p717KJA4-CRB",
    "outputId": "6b147dda-e243-4293-91db-15556b29e43c"
   },
   "outputs": [
    {
     "data": {
      "text/plain": [
       "array([0, 0, 0, ..., 0, 0, 0])"
      ]
     },
     "execution_count": 13,
     "metadata": {
      "tags": []
     },
     "output_type": "execute_result"
    }
   ],
   "source": [
    "y_tr"
   ]
  },
  {
   "cell_type": "code",
   "execution_count": 14,
   "metadata": {
    "colab": {
     "base_uri": "https://localhost:8080/",
     "height": 34
    },
    "colab_type": "code",
    "id": "Eoxm3x52-Cif",
    "outputId": "76d117fd-72ed-4247-e0d1-a6e99d2f0981"
   },
   "outputs": [
    {
     "data": {
      "text/plain": [
       "array([0, 0, 0, ..., 0, 0, 0])"
      ]
     },
     "execution_count": 14,
     "metadata": {
      "tags": []
     },
     "output_type": "execute_result"
    }
   ],
   "source": [
    "y_ts"
   ]
  },
  {
   "cell_type": "code",
   "execution_count": 0,
   "metadata": {
    "colab": {},
    "colab_type": "code",
    "id": "B8yAvbYA-CyW"
   },
   "outputs": [],
   "source": []
  },
  {
   "cell_type": "code",
   "execution_count": 0,
   "metadata": {
    "colab": {},
    "colab_type": "code",
    "id": "dYSnhphxiQWL"
   },
   "outputs": [],
   "source": [
    "elix_lstm_model = tf.keras.models.Sequential([\n",
    "    tf.keras.layers.LSTM(29, input_shape=(20,29)),\n",
    "    tf.keras.layers.Dense(1, activation='sigmoid')\n",
    "])\n",
    "\n",
    "elix_lstm_model.compile(optimizer='adam', loss='binary_crossentropy',\n",
    "                        metrics=['accuracy'])"
   ]
  },
  {
   "cell_type": "code",
   "execution_count": 16,
   "metadata": {
    "colab": {
     "base_uri": "https://localhost:8080/",
     "height": 1000
    },
    "colab_type": "code",
    "id": "YdxSwcX4iWBl",
    "outputId": "026a2121-0338-46d5-e141-88767125d9bd"
   },
   "outputs": [
    {
     "name": "stdout",
     "output_type": "stream",
     "text": [
      "Epoch 1/30\n",
      "10455/10455 [==============================] - 100s 10ms/step - loss: 0.4817 - accuracy: 0.7744\n",
      "Epoch 2/30\n",
      "10455/10455 [==============================] - 101s 10ms/step - loss: 0.4524 - accuracy: 0.7918\n",
      "Epoch 3/30\n",
      "10455/10455 [==============================] - 101s 10ms/step - loss: 0.4338 - accuracy: 0.8025\n",
      "Epoch 4/30\n",
      "10455/10455 [==============================] - 101s 10ms/step - loss: 0.4193 - accuracy: 0.8117\n",
      "Epoch 5/30\n",
      "10455/10455 [==============================] - 101s 10ms/step - loss: 0.4071 - accuracy: 0.8193\n",
      "Epoch 6/30\n",
      "10455/10455 [==============================] - 100s 10ms/step - loss: 0.3968 - accuracy: 0.8251\n",
      "Epoch 7/30\n",
      "10455/10455 [==============================] - 100s 10ms/step - loss: 0.3886 - accuracy: 0.8294\n",
      "Epoch 8/30\n",
      "10455/10455 [==============================] - 101s 10ms/step - loss: 0.3808 - accuracy: 0.8340\n",
      "Epoch 9/30\n",
      "10455/10455 [==============================] - 101s 10ms/step - loss: 0.3738 - accuracy: 0.8373\n",
      "Epoch 10/30\n",
      "10455/10455 [==============================] - 100s 10ms/step - loss: 0.3676 - accuracy: 0.8408\n",
      "Epoch 11/30\n",
      "10455/10455 [==============================] - 100s 10ms/step - loss: 0.3623 - accuracy: 0.8436\n",
      "Epoch 12/30\n",
      "10455/10455 [==============================] - 100s 10ms/step - loss: 0.3567 - accuracy: 0.8463\n",
      "Epoch 13/30\n",
      "10455/10455 [==============================] - 100s 10ms/step - loss: 0.3523 - accuracy: 0.8484\n",
      "Epoch 14/30\n",
      "10455/10455 [==============================] - 100s 10ms/step - loss: 0.3478 - accuracy: 0.8505\n",
      "Epoch 15/30\n",
      "10455/10455 [==============================] - 101s 10ms/step - loss: 0.3444 - accuracy: 0.8526\n",
      "Epoch 16/30\n",
      "10455/10455 [==============================] - 100s 10ms/step - loss: 0.3409 - accuracy: 0.8547\n",
      "Epoch 17/30\n",
      "10455/10455 [==============================] - 100s 10ms/step - loss: 0.3375 - accuracy: 0.8564\n",
      "Epoch 18/30\n",
      "10455/10455 [==============================] - 101s 10ms/step - loss: 0.3348 - accuracy: 0.8579\n",
      "Epoch 19/30\n",
      "10455/10455 [==============================] - 99s 9ms/step - loss: 0.3324 - accuracy: 0.8590\n",
      "Epoch 20/30\n",
      "10455/10455 [==============================] - 99s 9ms/step - loss: 0.3296 - accuracy: 0.8601\n",
      "Epoch 21/30\n",
      "10455/10455 [==============================] - 100s 10ms/step - loss: 0.3276 - accuracy: 0.8613\n",
      "Epoch 22/30\n",
      "10455/10455 [==============================] - 99s 9ms/step - loss: 0.3254 - accuracy: 0.8626\n",
      "Epoch 23/30\n",
      "10455/10455 [==============================] - 99s 9ms/step - loss: 0.3237 - accuracy: 0.8637\n",
      "Epoch 24/30\n",
      "10455/10455 [==============================] - 100s 10ms/step - loss: 0.3219 - accuracy: 0.8648\n",
      "Epoch 25/30\n",
      "10455/10455 [==============================] - 98s 9ms/step - loss: 0.3202 - accuracy: 0.8650\n",
      "Epoch 26/30\n",
      "10455/10455 [==============================] - 99s 9ms/step - loss: 0.3187 - accuracy: 0.8660\n",
      "Epoch 27/30\n",
      "10455/10455 [==============================] - 99s 9ms/step - loss: 0.3171 - accuracy: 0.8668\n",
      "Epoch 28/30\n",
      "10455/10455 [==============================] - 100s 10ms/step - loss: 0.3158 - accuracy: 0.8673\n",
      "Epoch 29/30\n",
      "10455/10455 [==============================] - 100s 10ms/step - loss: 0.3142 - accuracy: 0.8682\n",
      "Epoch 30/30\n",
      "10455/10455 [==============================] - 98s 9ms/step - loss: 0.3129 - accuracy: 0.8689\n"
     ]
    },
    {
     "data": {
      "text/plain": [
       "<tensorflow.python.keras.callbacks.History at 0x7ff5134871d0>"
      ]
     },
     "execution_count": 16,
     "metadata": {
      "tags": []
     },
     "output_type": "execute_result"
    }
   ],
   "source": [
    "elix_lstm_model.fit(x_tr_vals, y_tr, epochs=30,steps_per_epoch=None)"
   ]
  },
  {
   "cell_type": "code",
   "execution_count": 20,
   "metadata": {
    "colab": {
     "base_uri": "https://localhost:8080/",
     "height": 205
    },
    "colab_type": "code",
    "id": "dK5acMsaiaCD",
    "outputId": "3a043f55-afa9-444d-ef29-e648a91c5564"
   },
   "outputs": [
    {
     "name": "stdout",
     "output_type": "stream",
     "text": [
      "WARNING:tensorflow:From <ipython-input-20-ed4fbf7a8a97>:1: Sequential.predict_classes (from tensorflow.python.keras.engine.sequential) is deprecated and will be removed after 2021-01-01.\n",
      "Instructions for updating:\n",
      "Please use instead:* `np.argmax(model.predict(x), axis=-1)`,   if your model does multi-class classification   (e.g. if it uses a `softmax` last-layer activation).* `(model.predict(x) > 0.5).astype(\"int32\")`,   if your model does binary classification   (e.g. if it uses a `sigmoid` last-layer activation).\n"
     ]
    },
    {
     "data": {
      "text/plain": [
       "array([[0],\n",
       "       [0],\n",
       "       [0],\n",
       "       ...,\n",
       "       [0],\n",
       "       [0],\n",
       "       [0]], dtype=int32)"
      ]
     },
     "execution_count": 20,
     "metadata": {
      "tags": []
     },
     "output_type": "execute_result"
    }
   ],
   "source": [
    "elix_lstm_model.predict_classes(x_ts_vals)"
   ]
  },
  {
   "cell_type": "code",
   "execution_count": 0,
   "metadata": {
    "colab": {},
    "colab_type": "code",
    "id": "qYzVrPiEko8s"
   },
   "outputs": [],
   "source": []
  },
  {
   "cell_type": "code",
   "execution_count": 0,
   "metadata": {
    "colab": {},
    "colab_type": "code",
    "id": "1IKUQIdNkxiZ"
   },
   "outputs": [],
   "source": [
    "predicted = elix_lstm_model.predict_classes(x_ts_vals)"
   ]
  },
  {
   "cell_type": "code",
   "execution_count": 22,
   "metadata": {
    "colab": {
     "base_uri": "https://localhost:8080/",
     "height": 134
    },
    "colab_type": "code",
    "id": "6HJBuZUbk0B5",
    "outputId": "a6c977e4-d31f-4d5c-9d1d-48e813f49cd1"
   },
   "outputs": [
    {
     "data": {
      "text/plain": [
       "array([[0],\n",
       "       [0],\n",
       "       [0],\n",
       "       ...,\n",
       "       [0],\n",
       "       [0],\n",
       "       [0]], dtype=int32)"
      ]
     },
     "execution_count": 22,
     "metadata": {
      "tags": []
     },
     "output_type": "execute_result"
    }
   ],
   "source": [
    "predicted"
   ]
  },
  {
   "cell_type": "code",
   "execution_count": 26,
   "metadata": {
    "colab": {
     "base_uri": "https://localhost:8080/",
     "height": 34
    },
    "colab_type": "code",
    "id": "F223cizbk29m",
    "outputId": "8ba51c86-2182-49a8-d52f-e75b7094410b"
   },
   "outputs": [
    {
     "name": "stdout",
     "output_type": "stream",
     "text": [
      "accuracy 0.7287332104292863\n"
     ]
    }
   ],
   "source": [
    "accuracy = accuracy_score(y_ts,predicted)\n",
    "print('accuracy', accuracy)"
   ]
  },
  {
   "cell_type": "code",
   "execution_count": 27,
   "metadata": {
    "colab": {
     "base_uri": "https://localhost:8080/",
     "height": 84
    },
    "colab_type": "code",
    "id": "dHkrG4DYk9YI",
    "outputId": "f6c8057f-8518-47b4-f30e-e9045fdff963"
   },
   "outputs": [
    {
     "name": "stdout",
     "output_type": "stream",
     "text": [
      "tp:  3707\n",
      "tn:  21196\n",
      "fp:  3752\n",
      "fn:  5518\n"
     ]
    }
   ],
   "source": [
    "from sklearn.metrics import confusion_matrix\n",
    "tn, fp, fn, tp = confusion_matrix(y_ts,predicted).ravel()\n",
    "print('tp: ', tp)\n",
    "print('tn: ', tn)\n",
    "print('fp: ', fp)\n",
    "print('fn: ', fn)"
   ]
  },
  {
   "cell_type": "code",
   "execution_count": 0,
   "metadata": {
    "colab": {},
    "colab_type": "code",
    "id": "qjXHT4HbxPN2"
   },
   "outputs": [],
   "source": [
    "precision = tp/(tp+fp)\n",
    "recall = tp/(tp+fn) \n",
    "f1 = (2*precision*recall)/(precision+recall)"
   ]
  },
  {
   "cell_type": "code",
   "execution_count": 35,
   "metadata": {
    "colab": {
     "base_uri": "https://localhost:8080/",
     "height": 67
    },
    "colab_type": "code",
    "id": "x9EMn7stxP1y",
    "outputId": "f058d33b-47ab-403b-a4b3-d2758981bed7"
   },
   "outputs": [
    {
     "name": "stdout",
     "output_type": "stream",
     "text": [
      "precision:  0.4969835098538678\n",
      "recall:  0.40184281842818426\n",
      "f1 score:  0.44437784703907934\n"
     ]
    }
   ],
   "source": [
    "print('precision: ', precision)\n",
    "print('recall: ', recall)\n",
    "print('f1 score: ', f1)"
   ]
  },
  {
   "cell_type": "code",
   "execution_count": 0,
   "metadata": {
    "colab": {},
    "colab_type": "code",
    "id": "9IG2LYf3raQQ"
   },
   "outputs": [],
   "source": [
    "probs = elix_lstm_model.predict(x_ts_vals)"
   ]
  },
  {
   "cell_type": "code",
   "execution_count": 0,
   "metadata": {
    "colab": {},
    "colab_type": "code",
    "id": "jMzgB4Jhr64J"
   },
   "outputs": [],
   "source": [
    "from sklearn import metrics\n",
    "fpr, tpr, thresholds = metrics.roc_curve(y_ts, probs)"
   ]
  },
  {
   "cell_type": "code",
   "execution_count": 31,
   "metadata": {
    "colab": {
     "base_uri": "https://localhost:8080/",
     "height": 34
    },
    "colab_type": "code",
    "id": "gXjRUlQtr78o",
    "outputId": "9d8b461e-caca-4e16-db0c-8dd5cc3f58f7"
   },
   "outputs": [
    {
     "data": {
      "text/plain": [
       "0.67128742146809"
      ]
     },
     "execution_count": 31,
     "metadata": {
      "tags": []
     },
     "output_type": "execute_result"
    }
   ],
   "source": [
    "metrics.auc(fpr, tpr)"
   ]
  },
  {
   "cell_type": "code",
   "execution_count": 32,
   "metadata": {
    "colab": {
     "base_uri": "https://localhost:8080/",
     "height": 282
    },
    "colab_type": "code",
    "id": "yMb4bes6sM-5",
    "outputId": "9e408199-cdb2-4f85-ba6f-be73c690f231"
   },
   "outputs": [
    {
     "data": {
      "text/plain": [
       "[<matplotlib.lines.Line2D at 0x7ff509d06470>]"
      ]
     },
     "execution_count": 32,
     "metadata": {
      "tags": []
     },
     "output_type": "execute_result"
    },
    {
     "data": {
      "image/png": "[encoded data removed]",
      "text/plain": [
       "<Figure size 432x288 with 1 Axes>"
      ]
     },
     "metadata": {
      "needs_background": "light",
      "tags": []
     },
     "output_type": "display_data"
    }
   ],
   "source": [
    "plt.plot(fpr,tpr)"
   ]
  },
  {
   "cell_type": "code",
   "execution_count": 0,
   "metadata": {
    "colab": {},
    "colab_type": "code",
    "id": "b4LFPvI6sPpp"
   },
   "outputs": [],
   "source": []
  }
 ],
 "metadata": {
  "colab": {
   "name": "HAP - 880 Assignment 11.ipynb",
   "provenance": [],
   "toc_visible": true
  },
  "kernelspec": {
   "display_name": "Python 3",
   "language": "python",
   "name": "python3"
  },
  "language_info": {
   "codemirror_mode": {
    "name": "ipython",
    "version": 3
   },
   "file_extension": ".py",
   "mimetype": "text/x-python",
   "name": "python",
   "nbconvert_exporter": "python",
   "pygments_lexer": "ipython3",
   "version": "3.7.6"
  }
 },
 "nbformat": 4,
 "nbformat_minor": 1
}
