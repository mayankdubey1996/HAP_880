{
 "cells": [
  {
   "cell_type": "code",
   "execution_count": 1,
   "metadata": {},
   "outputs": [],
   "source": [
    "import sqlite3\n",
    "import pandas as pd\n",
    "import numpy as np\n",
    "from matplotlib import pyplot as plt\n",
    "from sklearn.model_selection import train_test_split\n",
    "from sklearn.metrics import auc\n",
    "from sklearn.metrics import roc_curve\n",
    "from sklearn.metrics import accuracy_score\n",
    "import warnings\n",
    "warnings.filterwarnings('ignore')"
   ]
  },
  {
   "cell_type": "code",
   "execution_count": 2,
   "metadata": {},
   "outputs": [],
   "source": [
    "conn = sqlite3.connect('testClaims_hu.db')\n",
    "df = pd.read_sql('select * from highUtilizationPredictionV2wco', conn)\n",
    "# create dummies for race\n",
    "race = pd.get_dummies(df['race'], dummy_na=False)\n",
    "df=pd.concat([df,race], axis=1)\n",
    "# split into training and testing\n",
    "tr, ts = train_test_split(df, test_size=0.2)\n",
    "# create list of input attributes\n",
    "cls = list(df.columns)\n",
    "cls.remove('index')\n",
    "cls.remove('race')\n",
    "cls.remove('patient_id')\n",
    "cls.remove('claimCount')\n",
    "cls.remove('HighUtilizationY2')"
   ]
  },
  {
   "cell_type": "code",
   "execution_count": 3,
   "metadata": {},
   "outputs": [],
   "source": [
    "from sklearn.linear_model import LogisticRegression\n",
    "from sklearn.ensemble import RandomForestClassifier\n",
    "from sklearn import metrics"
   ]
  },
  {
   "cell_type": "code",
   "execution_count": 4,
   "metadata": {},
   "outputs": [
    {
     "name": "stdout",
     "output_type": "stream",
     "text": [
      "auc:  0.8086524290096732\n",
      "accuracy :  0.9372705153727051\n"
     ]
    }
   ],
   "source": [
    "lr = LogisticRegression()\n",
    "lr.fit(tr[cls], tr['HighUtilizationY2'])\n",
    "probs = lr.predict_proba(ts[cls])[:,1]\n",
    "clas = lr.predict(ts[cls])\n",
    "fpr,tpr,thresholds = roc_curve(ts['HighUtilizationY2'],probs)\n",
    "print('auc: ',auc(fpr,tpr))\n",
    "print('accuracy : ',accuracy_score(clas,ts['HighUtilizationY2']))"
   ]
  },
  {
   "cell_type": "code",
   "execution_count": 5,
   "metadata": {},
   "outputs": [],
   "source": [
    "dist = []\n",
    "acc = []\n",
    "for cnt in range(0,300,10):\n",
    "    tt = ts[(ts['claimCount'] >= cnt) & (ts['claimCount'] < cnt + 10)]\n",
    "    dist.append( lr.predict_proba(tt[cls])[:,1].mean())\n",
    "    clas = lr.predict(tt[cls])\n",
    "    acc.append(accuracy_score(clas,tt['HighUtilizationY2']))"
   ]
  },
  {
   "cell_type": "code",
   "execution_count": 6,
   "metadata": {},
   "outputs": [
    {
     "data": {
      "text/plain": [
       "<BarContainer object of 30 artists>"
      ]
     },
     "execution_count": 6,
     "metadata": {},
     "output_type": "execute_result"
    },
    {
     "data": {
      "image/png": "[encoded data removed]",
      "text/plain": [
       "<Figure size 432x288 with 1 Axes>"
      ]
     },
     "metadata": {
      "needs_background": "light"
     },
     "output_type": "display_data"
    }
   ],
   "source": [
    "plt.bar(range(0,300,10), dist)"
   ]
  },
  {
   "cell_type": "code",
   "execution_count": 7,
   "metadata": {},
   "outputs": [
    {
     "data": {
      "text/plain": [
       "<BarContainer object of 30 artists>"
      ]
     },
     "execution_count": 7,
     "metadata": {},
     "output_type": "execute_result"
    },
    {
     "data": {
      "image/png": "[encoded data removed]",
      "text/plain": [
       "<Figure size 432x288 with 1 Axes>"
      ]
     },
     "metadata": {
      "needs_background": "light"
     },
     "output_type": "display_data"
    }
   ],
   "source": [
    "plt.bar(range(0,300,10),acc)"
   ]
  },
  {
   "cell_type": "code",
   "execution_count": 8,
   "metadata": {},
   "outputs": [
    {
     "name": "stdout",
     "output_type": "stream",
     "text": [
      "auc:  0.7942548172913924\n",
      "accuracy :  0.9391285113912851\n"
     ]
    }
   ],
   "source": [
    "rf = RandomForestClassifier( n_jobs=-1)\n",
    "rf.fit(tr[cls], tr['HighUtilizationY2'])\n",
    "probs =rf.predict_proba(ts[cls])[:,1]\n",
    "fpr,tpr,thresholds = roc_curve(ts['HighUtilizationY2'],probs)\n",
    "auc(fpr,tpr)\n",
    "clas = rf.predict(ts[cls])\n",
    "fpr,tpr,thresholds = roc_curve(ts['HighUtilizationY2'],probs)\n",
    "print('auc: ',auc(fpr,tpr))\n",
    "print('accuracy : ',accuracy_score(clas,ts['HighUtilizationY2']))"
   ]
  },
  {
   "cell_type": "code",
   "execution_count": 9,
   "metadata": {},
   "outputs": [],
   "source": [
    "dist = []\n",
    "acc = []\n",
    "for cnt in range(0,300,10):\n",
    "    tt = ts[(ts['claimCount'] >= cnt) & (ts['claimCount'] < cnt + 10)]\n",
    "    dist.append(rf.predict_proba(tt[cls])[:,1].mean())\n",
    "    clas = rf.predict(tt[cls])\n",
    "    acc.append(accuracy_score(clas,tt['HighUtilizationY2']))"
   ]
  },
  {
   "cell_type": "code",
   "execution_count": 10,
   "metadata": {},
   "outputs": [
    {
     "data": {
      "text/plain": [
       "<BarContainer object of 30 artists>"
      ]
     },
     "execution_count": 10,
     "metadata": {},
     "output_type": "execute_result"
    },
    {
     "data": {
      "image/png": "[encoded data removed]",
      "text/plain": [
       "<Figure size 432x288 with 1 Axes>"
      ]
     },
     "metadata": {
      "needs_background": "light"
     },
     "output_type": "display_data"
    }
   ],
   "source": [
    "plt.bar(range(0,300,10), dist)"
   ]
  },
  {
   "cell_type": "code",
   "execution_count": 11,
   "metadata": {},
   "outputs": [
    {
     "data": {
      "text/plain": [
       "<BarContainer object of 30 artists>"
      ]
     },
     "execution_count": 11,
     "metadata": {},
     "output_type": "execute_result"
    },
    {
     "data": {
      "image/png": "[encoded data removed]",
      "text/plain": [
       "<Figure size 432x288 with 1 Axes>"
      ]
     },
     "metadata": {
      "needs_background": "light"
     },
     "output_type": "display_data"
    }
   ],
   "source": [
    "plt.bar(range(0,300,10),acc)"
   ]
  },
  {
   "cell_type": "code",
   "execution_count": 12,
   "metadata": {},
   "outputs": [
    {
     "data": {
      "text/plain": [
       "(array([46757., 19701.,  9936.,  5206.,  2891.,  1762.,  1133.,   762.,\n",
       "          504.,   402.]),\n",
       " array([  0.,  20.,  40.,  60.,  80., 100., 120., 140., 160., 180., 200.]),\n",
       " <a list of 10 Patch objects>)"
      ]
     },
     "execution_count": 12,
     "metadata": {},
     "output_type": "execute_result"
    },
    {
     "data": {
      "image/png": "[encoded data removed]",
      "text/plain": [
       "<Figure size 432x288 with 1 Axes>"
      ]
     },
     "metadata": {
      "needs_background": "light"
     },
     "output_type": "display_data"
    }
   ],
   "source": [
    "plt.hist(tr[tr['claimCount']<=200]['claimCount'], bins=10)"
   ]
  },
  {
   "cell_type": "markdown",
   "metadata": {},
   "source": [
    "# 1. Experiment with claims close to 100 claims high utilization boundary. FOr example you can ignore claims in +/- 10 range and see if that affects quality of models. Also investigate accuracy of models by stratifying test data by number of claims. Plot accuracy per number of claims. "
   ]
  },
  {
   "cell_type": "code",
   "execution_count": 13,
   "metadata": {},
   "outputs": [],
   "source": [
    "df1= tr[tr['claimCount']< 90 ] "
   ]
  },
  {
   "cell_type": "code",
   "execution_count": 14,
   "metadata": {},
   "outputs": [],
   "source": [
    "df2 = tr[tr['claimCount']>110 ] "
   ]
  },
  {
   "cell_type": "code",
   "execution_count": 15,
   "metadata": {},
   "outputs": [],
   "source": [
    "tr1 = [df1, df2]\n",
    "train_new = pd.concat(tr1)"
   ]
  },
  {
   "cell_type": "code",
   "execution_count": 16,
   "metadata": {},
   "outputs": [
    {
     "data": {
      "text/plain": [
       "88078"
      ]
     },
     "execution_count": 16,
     "metadata": {},
     "output_type": "execute_result"
    }
   ],
   "source": [
    "train_new.shape[0]"
   ]
  },
  {
   "cell_type": "code",
   "execution_count": 17,
   "metadata": {},
   "outputs": [],
   "source": [
    "#tr1, ts1 = train_test_split(result, test_size=0.2)"
   ]
  },
  {
   "cell_type": "code",
   "execution_count": 18,
   "metadata": {},
   "outputs": [
    {
     "data": {
      "text/plain": [
       "(array([21800.,  4623.,  4966.,  6604.,  4585.,  4179.,  5152.,  3385.,\n",
       "         3037.,  3591.,  2390.,  2146.,  2624.,  1718.,  1526.,  1733.,\n",
       "         1200.,  1135.,  1307.,   837.,   786.,  1018.,   660.,   598.,\n",
       "          723.,   496.,   441.,     0.,     0.,     0.,     0.,     0.,\n",
       "            0.,   247.,   197.,   208.,   280.,   185.,   168.,   210.,\n",
       "          148.,   142.,   179.,   122.,   125.,   141.,   104.,    91.,\n",
       "          126.,    79.,    73.,    96.,    66.,    64.,    89.,    56.,\n",
       "           56.,    87.,    46.,    68.]),\n",
       " array([  0.        ,   3.33333333,   6.66666667,  10.        ,\n",
       "         13.33333333,  16.66666667,  20.        ,  23.33333333,\n",
       "         26.66666667,  30.        ,  33.33333333,  36.66666667,\n",
       "         40.        ,  43.33333333,  46.66666667,  50.        ,\n",
       "         53.33333333,  56.66666667,  60.        ,  63.33333333,\n",
       "         66.66666667,  70.        ,  73.33333333,  76.66666667,\n",
       "         80.        ,  83.33333333,  86.66666667,  90.        ,\n",
       "         93.33333333,  96.66666667, 100.        , 103.33333333,\n",
       "        106.66666667, 110.        , 113.33333333, 116.66666667,\n",
       "        120.        , 123.33333333, 126.66666667, 130.        ,\n",
       "        133.33333333, 136.66666667, 140.        , 143.33333333,\n",
       "        146.66666667, 150.        , 153.33333333, 156.66666667,\n",
       "        160.        , 163.33333333, 166.66666667, 170.        ,\n",
       "        173.33333333, 176.66666667, 180.        , 183.33333333,\n",
       "        186.66666667, 190.        , 193.33333333, 196.66666667,\n",
       "        200.        ]),\n",
       " <a list of 60 Patch objects>)"
      ]
     },
     "execution_count": 18,
     "metadata": {},
     "output_type": "execute_result"
    },
    {
     "data": {
      "image/png": "[encoded data removed]",
      "text/plain": [
       "<Figure size 432x288 with 1 Axes>"
      ]
     },
     "metadata": {
      "needs_background": "light"
     },
     "output_type": "display_data"
    }
   ],
   "source": [
    "plt.hist(train_new[train_new['claimCount']<=200]['claimCount'], bins=60)"
   ]
  },
  {
   "cell_type": "code",
   "execution_count": 19,
   "metadata": {},
   "outputs": [
    {
     "name": "stdout",
     "output_type": "stream",
     "text": [
      "auc:  0.8054676778804932\n",
      "accuracy :  0.9374032293740323\n"
     ]
    }
   ],
   "source": [
    "lr = LogisticRegression()\n",
    "lr.fit(train_new[cls], train_new['HighUtilizationY2'])\n",
    "probs = lr.predict_proba(ts[cls])[:,1]\n",
    "clas = lr.predict(ts[cls])\n",
    "fpr,tpr,thresholds = roc_curve(ts['HighUtilizationY2'],probs)\n",
    "print('auc: ',auc(fpr,tpr))\n",
    "print('accuracy : ',accuracy_score(clas,ts['HighUtilizationY2']))"
   ]
  },
  {
   "cell_type": "code",
   "execution_count": 20,
   "metadata": {},
   "outputs": [],
   "source": [
    "dist = []\n",
    "accu =[]\n",
    "for cnt in range(0,90,10):\n",
    "    tt = train_new[(train_new['claimCount'] >= cnt) & (train_new['claimCount'] < cnt + 10)]\n",
    "    dist.append(lr.predict_proba(tt[cls])[:,1].mean())\n",
    "    clas = lr.predict(tt[cls])\n",
    "    accu.append(accuracy_score(clas,tt['HighUtilizationY2']))\n",
    "for cnt in range(110,300,10):\n",
    "    tt = train_new[(train_new['claimCount'] >= cnt) & (train_new['claimCount'] < cnt + 10)]\n",
    "    dist.append(lr.predict_proba(tt[cls])[:,1].mean())\n",
    "    clas = lr.predict(tt[cls])\n",
    "    accu.append(accuracy_score(clas,tt['HighUtilizationY2']))"
   ]
  },
  {
   "cell_type": "code",
   "execution_count": 21,
   "metadata": {},
   "outputs": [
    {
     "data": {
      "text/plain": [
       "<BarContainer object of 28 artists>"
      ]
     },
     "execution_count": 21,
     "metadata": {},
     "output_type": "execute_result"
    },
    {
     "data": {
      "image/png": "[encoded data removed]",
      "text/plain": [
       "<Figure size 432x288 with 1 Axes>"
      ]
     },
     "metadata": {
      "needs_background": "light"
     },
     "output_type": "display_data"
    }
   ],
   "source": [
    "plt.bar(range(0,280,10), dist)"
   ]
  },
  {
   "cell_type": "code",
   "execution_count": 22,
   "metadata": {},
   "outputs": [
    {
     "data": {
      "text/plain": [
       "<BarContainer object of 28 artists>"
      ]
     },
     "execution_count": 22,
     "metadata": {},
     "output_type": "execute_result"
    },
    {
     "data": {
      "image/png": "[encoded data removed]",
      "text/plain": [
       "<Figure size 432x288 with 1 Axes>"
      ]
     },
     "metadata": {
      "needs_background": "light"
     },
     "output_type": "display_data"
    }
   ],
   "source": [
    "plt.bar(range(0,280,10), accu)"
   ]
  },
  {
   "cell_type": "code",
   "execution_count": 23,
   "metadata": {},
   "outputs": [
    {
     "name": "stdout",
     "output_type": "stream",
     "text": [
      "auc:  0.7940188394540535\n",
      "accuracy :  0.9393054633930547\n"
     ]
    }
   ],
   "source": [
    "rf = RandomForestClassifier( n_jobs=-1)\n",
    "rf.fit(train_new[cls], train_new['HighUtilizationY2'])\n",
    "probs =rf.predict_proba(ts[cls])[:,1]\n",
    "fpr,tpr,thresholds = roc_curve(ts['HighUtilizationY2'],probs)\n",
    "auc(fpr,tpr)\n",
    "clas = rf.predict(ts[cls])\n",
    "fpr,tpr,thresholds = roc_curve(ts['HighUtilizationY2'],probs)\n",
    "print('auc: ',auc(fpr,tpr))\n",
    "print('accuracy : ',accuracy_score(clas,ts['HighUtilizationY2']))"
   ]
  },
  {
   "cell_type": "code",
   "execution_count": 24,
   "metadata": {},
   "outputs": [],
   "source": [
    "dist = []\n",
    "accu =[]\n",
    "for cnt in range(0,90,10):\n",
    "    tt = train_new[(train_new['claimCount'] >= cnt) & (train_new['claimCount'] < cnt + 10)]\n",
    "    dist.append(rf.predict_proba(tt[cls])[:,1].mean())\n",
    "    clas = rf.predict(tt[cls])\n",
    "    accu.append(accuracy_score(clas,tt['HighUtilizationY2']))\n",
    "for cnt in range(110,300,10):\n",
    "    tt = train_new[(train_new['claimCount'] >= cnt) & (train_new['claimCount'] < cnt + 10)]\n",
    "    dist.append(rf.predict_proba(tt[cls])[:,1].mean())\n",
    "    clas = rf.predict(tt[cls])\n",
    "    accu.append(accuracy_score(clas,tt['HighUtilizationY2']))"
   ]
  },
  {
   "cell_type": "code",
   "execution_count": 25,
   "metadata": {},
   "outputs": [
    {
     "data": {
      "text/plain": [
       "<BarContainer object of 28 artists>"
      ]
     },
     "execution_count": 25,
     "metadata": {},
     "output_type": "execute_result"
    },
    {
     "data": {
      "image/png": "[encoded data removed]",
      "text/plain": [
       "<Figure size 432x288 with 1 Axes>"
      ]
     },
     "metadata": {
      "needs_background": "light"
     },
     "output_type": "display_data"
    }
   ],
   "source": [
    "plt.bar(range(0,280,10), dist)"
   ]
  },
  {
   "cell_type": "code",
   "execution_count": 26,
   "metadata": {},
   "outputs": [
    {
     "data": {
      "text/plain": [
       "<BarContainer object of 28 artists>"
      ]
     },
     "execution_count": 26,
     "metadata": {},
     "output_type": "execute_result"
    },
    {
     "data": {
      "image/png": "[encoded data removed]",
      "text/plain": [
       "<Figure size 432x288 with 1 Axes>"
      ]
     },
     "metadata": {
      "needs_background": "light"
     },
     "output_type": "display_data"
    }
   ],
   "source": [
    "plt.bar(range(0,280,10), accu)"
   ]
  },
  {
   "cell_type": "markdown",
   "metadata": {},
   "source": [
    "# 2. Conduct sensitivity analysis for the testClaims data for predicting high utilization."
   ]
  },
  {
   "cell_type": "code",
   "execution_count": 27,
   "metadata": {},
   "outputs": [],
   "source": [
    "x = df['age'].unique()"
   ]
  },
  {
   "cell_type": "code",
   "execution_count": 28,
   "metadata": {},
   "outputs": [],
   "source": [
    "x.sort()"
   ]
  },
  {
   "cell_type": "code",
   "execution_count": 29,
   "metadata": {},
   "outputs": [
    {
     "data": {
      "text/plain": [
       "array([65, 66, 67, 68, 69, 70, 71, 72, 73, 74, 75, 76, 77, 78, 79, 80, 81,\n",
       "       82, 83, 84, 85, 86, 87, 88, 89, 90], dtype=int64)"
      ]
     },
     "execution_count": 29,
     "metadata": {},
     "output_type": "execute_result"
    }
   ],
   "source": [
    "x"
   ]
  },
  {
   "cell_type": "code",
   "execution_count": 30,
   "metadata": {},
   "outputs": [],
   "source": [
    "key = df['age'].value_counts().sort_index().index\n",
    "value = df['age'].value_counts().sort_index().values"
   ]
  },
  {
   "cell_type": "code",
   "execution_count": 31,
   "metadata": {},
   "outputs": [
    {
     "data": {
      "text/plain": [
       "[<matplotlib.lines.Line2D at 0x1ca0b298608>]"
      ]
     },
     "execution_count": 31,
     "metadata": {},
     "output_type": "execute_result"
    },
    {
     "data": {
      "image/png": "[encoded data removed]",
      "text/plain": [
       "<Figure size 432x288 with 1 Axes>"
      ]
     },
     "metadata": {
      "needs_background": "light"
     },
     "output_type": "display_data"
    }
   ],
   "source": [
    "plt.plot(key, value)"
   ]
  },
  {
   "cell_type": "markdown",
   "metadata": {},
   "source": [
    "MOST OF THE PERSON ARE AGED BETWEEN 65 TO 70.\n",
    "THE INTERESTING THING TO NOTICE IS THERE IS SUDDEN SPIKE IN DATA AFTER 90, THE PERSON ABOVE 90 IS GENERALISED TO 90."
   ]
  },
  {
   "cell_type": "code",
   "execution_count": 32,
   "metadata": {},
   "outputs": [],
   "source": [
    "training_prob = []\n",
    "testing_prob = []\n",
    "train_auc = []\n",
    "test_auc = []\n",
    "train_accuracy = []\n",
    "test_accuracy = []\n",
    "for a in list(x):\n",
    "    ts_sen = ts[ts['age'] == a]\n",
    "    tr_sen = tr[tr['age'] == a]\n",
    "    testing_prob.append( rf.predict_proba(ts_sen[cls])[:,1].mean())\n",
    "    training_prob.append( rf.predict_proba(tr_sen[cls])[:,1].mean())\n",
    "\n",
    "    probs =rf.predict_proba(ts_sen[cls])[:,1]\n",
    "    fpr,tpr,thresholds = roc_curve(ts_sen['HighUtilizationY2'],probs)\n",
    "    test_auc.append(auc(fpr,tpr))\n",
    "    probs =rf.predict_proba(tr_sen[cls])[:,1]\n",
    "    fpr,tpr,thresholds = roc_curve(tr_sen['HighUtilizationY2'],probs)\n",
    "    train_auc.append(auc(fpr,tpr))\n",
    "    \n",
    "    clas_train = rf.predict(tr_sen[cls])\n",
    "    clas_test = rf.predict(ts_sen[cls])\n",
    "    \n",
    "    train_accuracy.append(accuracy_score(clas_train,tr_sen['HighUtilizationY2']))\n",
    "    test_accuracy.append(accuracy_score(clas_test,ts_sen['HighUtilizationY2']))"
   ]
  },
  {
   "cell_type": "code",
   "execution_count": 33,
   "metadata": {},
   "outputs": [
    {
     "data": {
      "text/plain": [
       "<matplotlib.legend.Legend at 0x1ca0b309dc8>"
      ]
     },
     "execution_count": 33,
     "metadata": {},
     "output_type": "execute_result"
    },
    {
     "data": {
      "image/png": "[encoded data removed]",
      "text/plain": [
       "<Figure size 432x288 with 1 Axes>"
      ]
     },
     "metadata": {
      "needs_background": "light"
     },
     "output_type": "display_data"
    }
   ],
   "source": [
    "plt.plot(list(x),training_prob)\n",
    "plt.plot(list(x),testing_prob)\n",
    "plt.legend(['training','testing'])"
   ]
  },
  {
   "cell_type": "code",
   "execution_count": 34,
   "metadata": {},
   "outputs": [
    {
     "data": {
      "text/plain": [
       "<matplotlib.legend.Legend at 0x1ca0b607c48>"
      ]
     },
     "execution_count": 34,
     "metadata": {},
     "output_type": "execute_result"
    },
    {
     "data": {
      "image/png": "[encoded data removed]",
      "text/plain": [
       "<Figure size 432x288 with 1 Axes>"
      ]
     },
     "metadata": {
      "needs_background": "light"
     },
     "output_type": "display_data"
    }
   ],
   "source": [
    "plt.plot(list(x),train_auc)\n",
    "plt.plot(list(x),test_auc)\n",
    "plt.legend(['training','testing'])"
   ]
  },
  {
   "cell_type": "code",
   "execution_count": 35,
   "metadata": {},
   "outputs": [
    {
     "data": {
      "text/plain": [
       "<matplotlib.legend.Legend at 0x1ca0a3e1bc8>"
      ]
     },
     "execution_count": 35,
     "metadata": {},
     "output_type": "execute_result"
    },
    {
     "data": {
      "image/png": "[encoded data removed]",
      "text/plain": [
       "<Figure size 432x288 with 1 Axes>"
      ]
     },
     "metadata": {
      "needs_background": "light"
     },
     "output_type": "display_data"
    }
   ],
   "source": [
    "plt.plot(list(x),train_accuracy)\n",
    "plt.plot(list(x),test_accuracy)\n",
    "plt.legend(['training','testing'])"
   ]
  },
  {
   "cell_type": "code",
   "execution_count": 36,
   "metadata": {},
   "outputs": [],
   "source": [
    "train_prob = []\n",
    "test_prob = []\n",
    "\n",
    "\n",
    "for age in list(x):\n",
    "    train = pd.DataFrame(tr)\n",
    "    train['age'] = age\n",
    "    test = pd.DataFrame(ts)\n",
    "    test['age'] = age\n",
    "    train_prob.append(rf.predict_proba(train[cls])[:,1].mean())\n",
    "    test_prob.append(rf.predict_proba(test[cls])[:,1].mean())"
   ]
  },
  {
   "cell_type": "code",
   "execution_count": 37,
   "metadata": {},
   "outputs": [
    {
     "data": {
      "text/plain": [
       "<matplotlib.legend.Legend at 0x1ca0c81dcc8>"
      ]
     },
     "execution_count": 37,
     "metadata": {},
     "output_type": "execute_result"
    },
    {
     "data": {
      "image/png": "[encoded data removed]",
      "text/plain": [
       "<Figure size 432x288 with 1 Axes>"
      ]
     },
     "metadata": {
      "needs_background": "light"
     },
     "output_type": "display_data"
    }
   ],
   "source": [
    "plt.plot(list(x),train_prob,label = 'train')\n",
    "plt.plot(list(x),test_prob,label='test')\n",
    "plt.legend()"
   ]
  },
  {
   "cell_type": "markdown",
   "metadata": {},
   "source": [
    "GRAPH SHOWS THAT PEOPLE WITH AGE 65 IS HIGH PROBABILITY OF UTILIZING INSURANE, AS AGE INCREASES PROBABILITY DECREASES."
   ]
  },
  {
   "cell_type": "code",
   "execution_count": 38,
   "metadata": {},
   "outputs": [],
   "source": [
    "#creating random person\n",
    "data = []\n",
    "for a in list(x):\n",
    "    for i in range(1,1000):\n",
    "        age = a\n",
    "\n",
    "        # randomly select ELIX codes\n",
    "        ELIX = [np.random.randint(2) for i in range(29)]\n",
    "\n",
    "        # randomly select procedures\n",
    "        G = [np.random.randint(2) for i in range(22)]\n",
    "\n",
    "        # randomly select drug counts\n",
    "        drugs = [np.random.randint(13) for i in range(12)] \n",
    "\n",
    "        # zero all races\n",
    "        A = 0\n",
    "        AmN = 0\n",
    "        B = 0\n",
    "        H = 0\n",
    "        O = 0\n",
    "        U = 0\n",
    "        W = 0\n",
    "        # and randomly select race\n",
    "        r = np.random.randint(7)\n",
    "        if r == 0:\n",
    "            A = 1\n",
    "        if r == 1:\n",
    "            AmN = 1\n",
    "        if r == 2:\n",
    "            B = 1\n",
    "        if r == 3:\n",
    "            H = 1\n",
    "        if r == 4:\n",
    "            O = 1\n",
    "        if r == 5:\n",
    "            U = 1\n",
    "        if r == 6:\n",
    "            W = 1    \n",
    "        d = [age] + ELIX + G + drugs + [A, AmN, B, H, O, U, W]\n",
    "        data.append(d)"
   ]
  },
  {
   "cell_type": "code",
   "execution_count": 39,
   "metadata": {},
   "outputs": [],
   "source": [
    "Y = rf.predict_proba(data)[:,1]"
   ]
  },
  {
   "cell_type": "code",
   "execution_count": 40,
   "metadata": {},
   "outputs": [],
   "source": [
    "X = np.array(data)[:,0]"
   ]
  },
  {
   "cell_type": "code",
   "execution_count": 41,
   "metadata": {},
   "outputs": [
    {
     "data": {
      "text/plain": [
       "[<matplotlib.lines.Line2D at 0x1ca0d399a08>]"
      ]
     },
     "execution_count": 41,
     "metadata": {},
     "output_type": "execute_result"
    },
    {
     "data": {
      "image/png": "[encoded data removed]",
      "text/plain": [
       "<Figure size 432x288 with 1 Axes>"
      ]
     },
     "metadata": {
      "needs_background": "light"
     },
     "output_type": "display_data"
    }
   ],
   "source": [
    "plt.plot(X,Y)"
   ]
  },
  {
   "cell_type": "code",
   "execution_count": 42,
   "metadata": {},
   "outputs": [],
   "source": [
    "ddd = pd.DataFrame(X, columns=['age'])"
   ]
  },
  {
   "cell_type": "code",
   "execution_count": 43,
   "metadata": {},
   "outputs": [],
   "source": [
    "ddd['prob'] = Y"
   ]
  },
  {
   "cell_type": "code",
   "execution_count": 44,
   "metadata": {},
   "outputs": [],
   "source": [
    "YY = ddd.groupby('age').mean()"
   ]
  },
  {
   "cell_type": "code",
   "execution_count": 45,
   "metadata": {},
   "outputs": [],
   "source": [
    "XX = range(65,91)"
   ]
  },
  {
   "cell_type": "code",
   "execution_count": 46,
   "metadata": {},
   "outputs": [
    {
     "data": {
      "text/plain": [
       "[<matplotlib.lines.Line2D at 0x1ca0b261c48>]"
      ]
     },
     "execution_count": 46,
     "metadata": {},
     "output_type": "execute_result"
    },
    {
     "data": {
      "image/png": "[encoded data removed]",
      "text/plain": [
       "<Figure size 432x288 with 1 Axes>"
      ]
     },
     "metadata": {
      "needs_background": "light"
     },
     "output_type": "display_data"
    }
   ],
   "source": [
    "plt.plot(XX,YY)"
   ]
  },
  {
   "cell_type": "code",
   "execution_count": 47,
   "metadata": {},
   "outputs": [
    {
     "data": {
      "text/plain": [
       "[0.3141841841841842,\n",
       " 0.30930930930930933,\n",
       " 0.3018818818818819,\n",
       " 0.2998898898898899,\n",
       " 0.3022822822822823,\n",
       " 0.2969269269269269,\n",
       " 0.2992492492492492,\n",
       " 0.30509509509509514,\n",
       " 0.2952952952952953,\n",
       " 0.29896896896896896,\n",
       " 0.292932932932933,\n",
       " 0.295065065065065,\n",
       " 0.2897797797797798,\n",
       " 0.29567567567567565,\n",
       " 0.2959559559559559,\n",
       " 0.28996996996996993,\n",
       " 0.29074074074074074,\n",
       " 0.28557557557557556,\n",
       " 0.285075075075075,\n",
       " 0.2865965965965966,\n",
       " 0.286006006006006,\n",
       " 0.28434434434434436,\n",
       " 0.2828528528528528,\n",
       " 0.28749749749749753,\n",
       " 0.28604604604604605,\n",
       " 0.28561561561561566]"
      ]
     },
     "execution_count": 47,
     "metadata": {},
     "output_type": "execute_result"
    }
   ],
   "source": [
    "data = pd.DataFrame(data)\n",
    "data_acc = []\n",
    "for age in x:\n",
    "    train = data[data[0]==age]\n",
    "    data_acc.append(rf.predict_proba(train)[:,1].mean())\n",
    "data_acc"
   ]
  },
  {
   "cell_type": "code",
   "execution_count": 48,
   "metadata": {},
   "outputs": [
    {
     "data": {
      "text/plain": [
       "[<matplotlib.lines.Line2D at 0x1ca0cc20d08>]"
      ]
     },
     "execution_count": 48,
     "metadata": {},
     "output_type": "execute_result"
    },
    {
     "data": {
      "image/png": "[encoded data removed]",
      "text/plain": [
       "<Figure size 432x288 with 1 Axes>"
      ]
     },
     "metadata": {
      "needs_background": "light"
     },
     "output_type": "display_data"
    }
   ],
   "source": [
    "plt.plot(list(x),data_acc)"
   ]
  },
  {
   "cell_type": "code",
   "execution_count": 49,
   "metadata": {},
   "outputs": [],
   "source": [
    "y = df['race'].unique()"
   ]
  },
  {
   "cell_type": "code",
   "execution_count": 50,
   "metadata": {},
   "outputs": [],
   "source": [
    "y.sort()"
   ]
  },
  {
   "cell_type": "code",
   "execution_count": 51,
   "metadata": {},
   "outputs": [
    {
     "data": {
      "text/plain": [
       "array(['A', 'Am.N', 'B', 'H', 'O', 'U', 'W'], dtype=object)"
      ]
     },
     "execution_count": 51,
     "metadata": {},
     "output_type": "execute_result"
    }
   ],
   "source": [
    "y"
   ]
  },
  {
   "cell_type": "code",
   "execution_count": 52,
   "metadata": {},
   "outputs": [
    {
     "data": {
      "text/plain": [
       "[<matplotlib.lines.Line2D at 0x1ca0c893e88>]"
      ]
     },
     "execution_count": 52,
     "metadata": {},
     "output_type": "execute_result"
    },
    {
     "data": {
      "image/png": "[encoded data removed]",
      "text/plain": [
       "<Figure size 432x288 with 1 Axes>"
      ]
     },
     "metadata": {
      "needs_background": "light"
     },
     "output_type": "display_data"
    }
   ],
   "source": [
    "key = df['race'].value_counts().sort_index().index\n",
    "values = df['race'].value_counts().sort_index().values\n",
    "plt.plot(key,values)"
   ]
  },
  {
   "cell_type": "code",
   "execution_count": 53,
   "metadata": {},
   "outputs": [],
   "source": [
    "prob_race = []\n",
    "for race in list(y):\n",
    "    train_race = tr[tr[race]==1]\n",
    "    prob_race.append(rf.predict_proba(train_race[cls])[:,1].mean())\n",
    "    "
   ]
  },
  {
   "cell_type": "code",
   "execution_count": 54,
   "metadata": {},
   "outputs": [
    {
     "data": {
      "text/plain": [
       "[<matplotlib.lines.Line2D at 0x1ca0c880e88>]"
      ]
     },
     "execution_count": 54,
     "metadata": {},
     "output_type": "execute_result"
    },
    {
     "data": {
      "image/png": "[encoded data removed]",
      "text/plain": [
       "<Figure size 432x288 with 1 Axes>"
      ]
     },
     "metadata": {
      "needs_background": "light"
     },
     "output_type": "display_data"
    }
   ],
   "source": [
    "plt.plot(list(y),prob_race)"
   ]
  },
  {
   "cell_type": "markdown",
   "metadata": {},
   "source": [
    "Race does not has impact for prediction"
   ]
  },
  {
   "cell_type": "markdown",
   "metadata": {},
   "source": [
    "# 3. Select randomly two patients from testmcalims test set. Conduct local sensitivity analysis for the prediction on these patients."
   ]
  },
  {
   "cell_type": "code",
   "execution_count": 55,
   "metadata": {},
   "outputs": [],
   "source": [
    "rf = RandomForestClassifier()\n",
    "rf.fit(tr[cls],tr['HighUtilizationY2'])\n",
    "p = rf.predict_proba(ts[cls])[:]"
   ]
  },
  {
   "cell_type": "code",
   "execution_count": 56,
   "metadata": {},
   "outputs": [],
   "source": [
    "p = rf.predict_proba(ts[cls])"
   ]
  },
  {
   "cell_type": "code",
   "execution_count": 57,
   "metadata": {},
   "outputs": [
    {
     "data": {
      "text/plain": [
       "(array([  304,  1033,  1108,  2501,  2531,  2692,  3025,  3400,  3522,\n",
       "         3828,  3938,  4427,  5506,  5663,  5717,  6166,  7724,  7790,\n",
       "         8333,  8975, 10499, 10936, 11055, 11268, 11454, 12282, 12315,\n",
       "        12737, 13575, 14645, 14725, 14870, 15245, 15307, 15454, 16344,\n",
       "        16469, 17475, 17502, 18921, 19020, 19759, 20376, 21734, 22392,\n",
       "        22477, 22520], dtype=int64),)"
      ]
     },
     "execution_count": 57,
     "metadata": {},
     "output_type": "execute_result"
    }
   ],
   "source": [
    "np.where(p[:,1] > 0.7)"
   ]
  },
  {
   "cell_type": "code",
   "execution_count": 58,
   "metadata": {},
   "outputs": [
    {
     "data": {
      "text/plain": [
       "array([1., 0.])"
      ]
     },
     "execution_count": 58,
     "metadata": {},
     "output_type": "execute_result"
    }
   ],
   "source": [
    "p[13070,:]"
   ]
  },
  {
   "cell_type": "code",
   "execution_count": 59,
   "metadata": {},
   "outputs": [
    {
     "data": {
      "text/plain": [
       "array([0.9, 0.1])"
      ]
     },
     "execution_count": 59,
     "metadata": {},
     "output_type": "execute_result"
    }
   ],
   "source": [
    "p[20999,:]"
   ]
  },
  {
   "cell_type": "code",
   "execution_count": 60,
   "metadata": {},
   "outputs": [],
   "source": [
    "test_case1 = ts.iloc[13070]\n",
    "test_case2 = ts.iloc[20999]"
   ]
  },
  {
   "cell_type": "code",
   "execution_count": 61,
   "metadata": {},
   "outputs": [],
   "source": [
    "binary_cols = {}\n",
    "numeric_cols = {}\n",
    "for c in cls:\n",
    "    cnt = len(tr[c].value_counts().index)\n",
    "    mnv = tr[c].min()\n",
    "    mxv = tr[c].max()\n",
    "    if cnt > 2:\n",
    "        avg = tr[c].mean()\n",
    "        std = tr[c].std()\n",
    "        #print(c, cnt, mnv, mxv, avg, std)\n",
    "        numeric_cols[c] = (cnt, mnv, mxv, avg, std)\n",
    "    elif cnt == 2:\n",
    "        binary_cols[c] = (cnt, mnv, mxv)"
   ]
  },
  {
   "cell_type": "code",
   "execution_count": 62,
   "metadata": {},
   "outputs": [
    {
     "data": {
      "text/plain": [
       "{'ELIX1': (2, 0, 1),\n",
       " 'ELIX2': (2, 0, 1),\n",
       " 'ELIX3': (2, 0, 1),\n",
       " 'ELIX4': (2, 0, 1),\n",
       " 'ELIX5': (2, 0, 1),\n",
       " 'ELIX6': (2, 0, 1),\n",
       " 'ELIX7': (2, 0, 1),\n",
       " 'ELIX8': (2, 0, 1),\n",
       " 'ELIX9': (2, 0, 1),\n",
       " 'ELIX10': (2, 0, 1),\n",
       " 'ELIX11': (2, 0, 1),\n",
       " 'ELIX12': (2, 0, 1),\n",
       " 'ELIX13': (2, 0, 1),\n",
       " 'ELIX14': (2, 0, 1),\n",
       " 'ELIX15': (2, 0, 1),\n",
       " 'ELIX16': (2, 0, 1),\n",
       " 'ELIX17': (2, 0, 1),\n",
       " 'ELIX18': (2, 0, 1),\n",
       " 'ELIX19': (2, 0, 1),\n",
       " 'ELIX20': (2, 0, 1),\n",
       " 'ELIX21': (2, 0, 1),\n",
       " 'ELIX22': (2, 0, 1),\n",
       " 'ELIX23': (2, 0, 1),\n",
       " 'ELIX24': (2, 0, 1),\n",
       " 'ELIX25': (2, 0, 1),\n",
       " 'ELIX26': (2, 0, 1),\n",
       " 'ELIX27': (2, 0, 1),\n",
       " 'ELIX28': (2, 0, 1),\n",
       " 'ELIX29': (2, 0, 1),\n",
       " 'G-2': (2, 0, 1),\n",
       " 'G-3': (2, 0, 1),\n",
       " 'G-4': (2, 0, 1),\n",
       " 'G-5': (2, 0, 1),\n",
       " 'G-6': (2, 0, 1),\n",
       " 'G-7': (2, 0, 1),\n",
       " 'G-8': (2, 0, 1),\n",
       " 'G-9': (2, 0, 1),\n",
       " 'G-10': (2, 0, 1),\n",
       " 'G-11': (2, 0, 1),\n",
       " 'G-12': (2, 0, 1),\n",
       " 'G-13': (2, 0, 1),\n",
       " 'G-14': (2, 0, 1),\n",
       " 'G-15': (2, 0, 1),\n",
       " 'G-16': (2, 0, 1),\n",
       " 'G-17': (2, 0, 1),\n",
       " 'G-18': (2, 0, 1),\n",
       " 'G-19': (2, 0, 1),\n",
       " 'G-20': (2, 0, 1),\n",
       " 'G-21': (2, 0, 1),\n",
       " 'G-22': (2, 0, 1),\n",
       " 'G-23': (2, 0, 1),\n",
       " 'A': (2, 0, 1),\n",
       " 'Am.N': (2, 0, 1),\n",
       " 'B': (2, 0, 1),\n",
       " 'H': (2, 0, 1),\n",
       " 'O': (2, 0, 1),\n",
       " 'U': (2, 0, 1),\n",
       " 'W': (2, 0, 1)}"
      ]
     },
     "execution_count": 62,
     "metadata": {},
     "output_type": "execute_result"
    }
   ],
   "source": [
    "binary_cols"
   ]
  },
  {
   "cell_type": "code",
   "execution_count": 63,
   "metadata": {},
   "outputs": [
    {
     "data": {
      "text/plain": [
       "{'drugs_m0-1': (8, 0, 7, 1.471361107731782, 2.28485447027413),\n",
       " 'drugs_m1-2': (8, 0, 7, 1.3415432597131134, 2.174986804040003),\n",
       " 'drugs_m2-3': (8, 0, 7, 1.4625576482818876, 2.2745048771119345),\n",
       " 'drugs_m3-4': (8, 0, 7, 1.3896857961269202, 2.20525038372987),\n",
       " 'drugs_m4-5': (8, 0, 7, 1.4566739291520587, 2.2645564341123596),\n",
       " 'drugs_m5-6': (8, 0, 7, 1.4412678751147436, 2.248056892955112),\n",
       " 'drugs_m6-7': (8, 0, 7, 1.4186067087669627, 2.2276778908421595),\n",
       " 'drugs_m7-8': (8, 0, 7, 1.446576493878499, 2.2535254508468454),\n",
       " 'drugs_m8-9': (8, 0, 7, 1.4062088720291088, 2.2170120652583645),\n",
       " 'drugs_m9-10': (8, 0, 7, 1.4597595638084915, 2.2573542875349775),\n",
       " 'drugs_m10-11': (8, 0, 7, 1.4288700383768898, 2.235858446424651),\n",
       " 'drugs_m11-12': (8, 0, 7, 1.3948174609318837, 2.2108352223823404)}"
      ]
     },
     "execution_count": 63,
     "metadata": {},
     "output_type": "execute_result"
    }
   ],
   "source": [
    "numeric_cols"
   ]
  },
  {
   "cell_type": "code",
   "execution_count": 64,
   "metadata": {},
   "outputs": [],
   "source": [
    "def combinations(test_case, binary_cols, numeric_cols):\n",
    "    dat = pd.DataFrame()\n",
    "    #Work on binary variables\n",
    "    for v in binary_cols:\n",
    "        #print(binary_cols[v])\n",
    "        # assume that if min is 0 and value in test case is 0, the eature is not present, so fe flit to the other value\n",
    "        #print( binary_cols[v][1], test_case[v] )\n",
    "        if (test_case[v] == binary_cols[v][1]): # at the lower value\n",
    "            #print(v)\n",
    "            newcase = test_case.copy()\n",
    "            newcase[v] = binary_cols[v][2]\n",
    "            newcase['changed_var'] = v\n",
    "            newcase['dir'] = '+'\n",
    "            newcase['type'] = 'b'\n",
    "            #print(newcase)\n",
    "            dat=dat.append(newcase)\n",
    "        else:\n",
    "            #print(v)\n",
    "            newcase = test_case.copy()\n",
    "            newcase[v] = binary_cols[v][1]\n",
    "            newcase['changed_var'] = v\n",
    "            newcase['dir'] = '-'\n",
    "            newcase['type'] = 'b'\n",
    "            #print(newcase)\n",
    "            dat=dat.append(newcase)   \n",
    "\n",
    "\n",
    "    # now work on numeric variables\n",
    "    for v in numeric_cols:\n",
    "        # assume that we do not change values which are at their lowest value\n",
    "        \n",
    "            print(v)\n",
    "            # val + sd\n",
    "            newcase = test_case.copy()\n",
    "            newcase[v] = min(newcase[v] + numeric_cols[v][4], numeric_cols[v][2] )\n",
    "            newcase['changed_var'] = v\n",
    "            newcase['dir'] = '+'\n",
    "            newcase['type'] = 'n'\n",
    "            dat=dat.append(newcase)\n",
    "            # val -sd\n",
    "            newcase = test_case.copy()\n",
    "            newcase[v] = max(newcase[v] - numeric_cols[v][4], numeric_cols[v][1] )\n",
    "            newcase['changed_var'] = v\n",
    "            newcase['dir'] = '-'\n",
    "            newcase['type'] = 'n'\n",
    "            dat=dat.append(newcase)\n",
    "    return dat"
   ]
  },
  {
   "cell_type": "code",
   "execution_count": 65,
   "metadata": {},
   "outputs": [
    {
     "name": "stdout",
     "output_type": "stream",
     "text": [
      "drugs_m0-1\n",
      "drugs_m1-2\n",
      "drugs_m2-3\n",
      "drugs_m3-4\n",
      "drugs_m4-5\n",
      "drugs_m5-6\n",
      "drugs_m6-7\n",
      "drugs_m7-8\n",
      "drugs_m8-9\n",
      "drugs_m9-10\n",
      "drugs_m10-11\n",
      "drugs_m11-12\n",
      "drugs_m0-1\n",
      "drugs_m1-2\n",
      "drugs_m2-3\n",
      "drugs_m3-4\n",
      "drugs_m4-5\n",
      "drugs_m5-6\n",
      "drugs_m6-7\n",
      "drugs_m7-8\n",
      "drugs_m8-9\n",
      "drugs_m9-10\n",
      "drugs_m10-11\n",
      "drugs_m11-12\n"
     ]
    }
   ],
   "source": [
    "dat1 = combinations(test_case1, binary_cols, numeric_cols)\n",
    "dat2 = combinations(test_case2, binary_cols, numeric_cols)"
   ]
  },
  {
   "cell_type": "code",
   "execution_count": 66,
   "metadata": {},
   "outputs": [],
   "source": [
    "def predict_combinations(dat, clf, pr):\n",
    "    probs = clf.predict_proba(dat[cls])\n",
    "    d = pd.DataFrame(dat[['type','changed_var','dir']])\n",
    "    d['prob'] = probs[:,1]\n",
    "    d['change'] = probs[:,1] - pr\n",
    "    return d.sort_values('change', ascending=False) "
   ]
  },
  {
   "cell_type": "code",
   "execution_count": 67,
   "metadata": {},
   "outputs": [],
   "source": [
    "pr1 = rf.predict_proba([test_case1[cls]])[:,1]\n",
    "pr2 = rf.predict_proba([test_case2[cls]])[:,1]"
   ]
  },
  {
   "cell_type": "code",
   "execution_count": 68,
   "metadata": {},
   "outputs": [],
   "source": [
    "d1 = predict_combinations(dat1, rf, pr1)\n",
    "d2 = predict_combinations(dat2, rf, pr2)"
   ]
  },
  {
   "cell_type": "code",
   "execution_count": 69,
   "metadata": {},
   "outputs": [
    {
     "data": {
      "text/html": [
       "<div>\n",
       "<style scoped>\n",
       "    .dataframe tbody tr th:only-of-type {\n",
       "        vertical-align: middle;\n",
       "    }\n",
       "\n",
       "    .dataframe tbody tr th {\n",
       "        vertical-align: top;\n",
       "    }\n",
       "\n",
       "    .dataframe thead th {\n",
       "        text-align: right;\n",
       "    }\n",
       "</style>\n",
       "<table border=\"1\" class=\"dataframe\">\n",
       "  <thead>\n",
       "    <tr style=\"text-align: right;\">\n",
       "      <th></th>\n",
       "      <th>type</th>\n",
       "      <th>changed_var</th>\n",
       "      <th>dir</th>\n",
       "      <th>prob</th>\n",
       "      <th>change</th>\n",
       "    </tr>\n",
       "  </thead>\n",
       "  <tbody>\n",
       "    <tr>\n",
       "      <th>103863</th>\n",
       "      <td>b</td>\n",
       "      <td>ELIX10</td>\n",
       "      <td>+</td>\n",
       "      <td>0.056667</td>\n",
       "      <td>0.056667</td>\n",
       "    </tr>\n",
       "    <tr>\n",
       "      <th>103863</th>\n",
       "      <td>b</td>\n",
       "      <td>G-22</td>\n",
       "      <td>+</td>\n",
       "      <td>0.050000</td>\n",
       "      <td>0.050000</td>\n",
       "    </tr>\n",
       "    <tr>\n",
       "      <th>103863</th>\n",
       "      <td>b</td>\n",
       "      <td>G-2</td>\n",
       "      <td>+</td>\n",
       "      <td>0.050000</td>\n",
       "      <td>0.050000</td>\n",
       "    </tr>\n",
       "    <tr>\n",
       "      <th>103863</th>\n",
       "      <td>b</td>\n",
       "      <td>G-17</td>\n",
       "      <td>+</td>\n",
       "      <td>0.030000</td>\n",
       "      <td>0.030000</td>\n",
       "    </tr>\n",
       "    <tr>\n",
       "      <th>103863</th>\n",
       "      <td>b</td>\n",
       "      <td>G-5</td>\n",
       "      <td>+</td>\n",
       "      <td>0.030000</td>\n",
       "      <td>0.030000</td>\n",
       "    </tr>\n",
       "    <tr>\n",
       "      <th>...</th>\n",
       "      <td>...</td>\n",
       "      <td>...</td>\n",
       "      <td>...</td>\n",
       "      <td>...</td>\n",
       "      <td>...</td>\n",
       "    </tr>\n",
       "    <tr>\n",
       "      <th>103863</th>\n",
       "      <td>b</td>\n",
       "      <td>G-10</td>\n",
       "      <td>+</td>\n",
       "      <td>0.000000</td>\n",
       "      <td>0.000000</td>\n",
       "    </tr>\n",
       "    <tr>\n",
       "      <th>103863</th>\n",
       "      <td>b</td>\n",
       "      <td>G-12</td>\n",
       "      <td>+</td>\n",
       "      <td>0.000000</td>\n",
       "      <td>0.000000</td>\n",
       "    </tr>\n",
       "    <tr>\n",
       "      <th>103863</th>\n",
       "      <td>b</td>\n",
       "      <td>G-15</td>\n",
       "      <td>+</td>\n",
       "      <td>0.000000</td>\n",
       "      <td>0.000000</td>\n",
       "    </tr>\n",
       "    <tr>\n",
       "      <th>103863</th>\n",
       "      <td>b</td>\n",
       "      <td>G-16</td>\n",
       "      <td>+</td>\n",
       "      <td>0.000000</td>\n",
       "      <td>0.000000</td>\n",
       "    </tr>\n",
       "    <tr>\n",
       "      <th>103863</th>\n",
       "      <td>n</td>\n",
       "      <td>drugs_m11-12</td>\n",
       "      <td>-</td>\n",
       "      <td>0.000000</td>\n",
       "      <td>0.000000</td>\n",
       "    </tr>\n",
       "  </tbody>\n",
       "</table>\n",
       "<p>82 rows × 5 columns</p>\n",
       "</div>"
      ],
      "text/plain": [
       "       type   changed_var dir      prob    change\n",
       "103863    b        ELIX10   +  0.056667  0.056667\n",
       "103863    b          G-22   +  0.050000  0.050000\n",
       "103863    b           G-2   +  0.050000  0.050000\n",
       "103863    b          G-17   +  0.030000  0.030000\n",
       "103863    b           G-5   +  0.030000  0.030000\n",
       "...     ...           ...  ..       ...       ...\n",
       "103863    b          G-10   +  0.000000  0.000000\n",
       "103863    b          G-12   +  0.000000  0.000000\n",
       "103863    b          G-15   +  0.000000  0.000000\n",
       "103863    b          G-16   +  0.000000  0.000000\n",
       "103863    n  drugs_m11-12   -  0.000000  0.000000\n",
       "\n",
       "[82 rows x 5 columns]"
      ]
     },
     "execution_count": 69,
     "metadata": {},
     "output_type": "execute_result"
    }
   ],
   "source": [
    "d1"
   ]
  },
  {
   "cell_type": "code",
   "execution_count": 70,
   "metadata": {},
   "outputs": [
    {
     "data": {
      "text/html": [
       "<div>\n",
       "<style scoped>\n",
       "    .dataframe tbody tr th:only-of-type {\n",
       "        vertical-align: middle;\n",
       "    }\n",
       "\n",
       "    .dataframe tbody tr th {\n",
       "        vertical-align: top;\n",
       "    }\n",
       "\n",
       "    .dataframe thead th {\n",
       "        text-align: right;\n",
       "    }\n",
       "</style>\n",
       "<table border=\"1\" class=\"dataframe\">\n",
       "  <thead>\n",
       "    <tr style=\"text-align: right;\">\n",
       "      <th></th>\n",
       "      <th>type</th>\n",
       "      <th>changed_var</th>\n",
       "      <th>dir</th>\n",
       "      <th>prob</th>\n",
       "      <th>change</th>\n",
       "    </tr>\n",
       "  </thead>\n",
       "  <tbody>\n",
       "    <tr>\n",
       "      <th>24418</th>\n",
       "      <td>b</td>\n",
       "      <td>ELIX14</td>\n",
       "      <td>+</td>\n",
       "      <td>0.240000</td>\n",
       "      <td>0.140000</td>\n",
       "    </tr>\n",
       "    <tr>\n",
       "      <th>24418</th>\n",
       "      <td>b</td>\n",
       "      <td>ELIX25</td>\n",
       "      <td>+</td>\n",
       "      <td>0.190000</td>\n",
       "      <td>0.090000</td>\n",
       "    </tr>\n",
       "    <tr>\n",
       "      <th>24418</th>\n",
       "      <td>b</td>\n",
       "      <td>ELIX22</td>\n",
       "      <td>+</td>\n",
       "      <td>0.190000</td>\n",
       "      <td>0.090000</td>\n",
       "    </tr>\n",
       "    <tr>\n",
       "      <th>24418</th>\n",
       "      <td>b</td>\n",
       "      <td>ELIX3</td>\n",
       "      <td>+</td>\n",
       "      <td>0.183333</td>\n",
       "      <td>0.083333</td>\n",
       "    </tr>\n",
       "    <tr>\n",
       "      <th>24418</th>\n",
       "      <td>b</td>\n",
       "      <td>ELIX18</td>\n",
       "      <td>+</td>\n",
       "      <td>0.180000</td>\n",
       "      <td>0.080000</td>\n",
       "    </tr>\n",
       "    <tr>\n",
       "      <th>...</th>\n",
       "      <td>...</td>\n",
       "      <td>...</td>\n",
       "      <td>...</td>\n",
       "      <td>...</td>\n",
       "      <td>...</td>\n",
       "    </tr>\n",
       "    <tr>\n",
       "      <th>24418</th>\n",
       "      <td>n</td>\n",
       "      <td>drugs_m4-5</td>\n",
       "      <td>-</td>\n",
       "      <td>0.060000</td>\n",
       "      <td>-0.040000</td>\n",
       "    </tr>\n",
       "    <tr>\n",
       "      <th>24418</th>\n",
       "      <td>n</td>\n",
       "      <td>drugs_m9-10</td>\n",
       "      <td>-</td>\n",
       "      <td>0.060000</td>\n",
       "      <td>-0.040000</td>\n",
       "    </tr>\n",
       "    <tr>\n",
       "      <th>24418</th>\n",
       "      <td>b</td>\n",
       "      <td>G-21</td>\n",
       "      <td>-</td>\n",
       "      <td>0.060000</td>\n",
       "      <td>-0.040000</td>\n",
       "    </tr>\n",
       "    <tr>\n",
       "      <th>24418</th>\n",
       "      <td>b</td>\n",
       "      <td>ELIX13</td>\n",
       "      <td>-</td>\n",
       "      <td>0.042500</td>\n",
       "      <td>-0.057500</td>\n",
       "    </tr>\n",
       "    <tr>\n",
       "      <th>24418</th>\n",
       "      <td>b</td>\n",
       "      <td>ELIX21</td>\n",
       "      <td>-</td>\n",
       "      <td>0.020000</td>\n",
       "      <td>-0.080000</td>\n",
       "    </tr>\n",
       "  </tbody>\n",
       "</table>\n",
       "<p>82 rows × 5 columns</p>\n",
       "</div>"
      ],
      "text/plain": [
       "      type  changed_var dir      prob    change\n",
       "24418    b       ELIX14   +  0.240000  0.140000\n",
       "24418    b       ELIX25   +  0.190000  0.090000\n",
       "24418    b       ELIX22   +  0.190000  0.090000\n",
       "24418    b        ELIX3   +  0.183333  0.083333\n",
       "24418    b       ELIX18   +  0.180000  0.080000\n",
       "...    ...          ...  ..       ...       ...\n",
       "24418    n   drugs_m4-5   -  0.060000 -0.040000\n",
       "24418    n  drugs_m9-10   -  0.060000 -0.040000\n",
       "24418    b         G-21   -  0.060000 -0.040000\n",
       "24418    b       ELIX13   -  0.042500 -0.057500\n",
       "24418    b       ELIX21   -  0.020000 -0.080000\n",
       "\n",
       "[82 rows x 5 columns]"
      ]
     },
     "execution_count": 70,
     "metadata": {},
     "output_type": "execute_result"
    }
   ],
   "source": [
    "d2"
   ]
  },
  {
   "cell_type": "code",
   "execution_count": 71,
   "metadata": {},
   "outputs": [
    {
     "name": "stdout",
     "output_type": "stream",
     "text": [
      "main confirming factors -- the numbers indicate probability in the case thee factors were not present:\n",
      "Empty DataFrame\n",
      "Columns: [type, changed_var, dir, prob, change]\n",
      "Index: []\n",
      "main disconfirming factors:\n",
      "       type changed_var dir  prob  change\n",
      "103863    b           W   -  0.02    0.02\n"
     ]
    }
   ],
   "source": [
    "print(\"main confirming factors -- the numbers indicate probability in the case thee factors were not present:\")\n",
    "print(d1[(((d1['type'] =='b') & (d1['dir'] =='-')) | ((d1['type'] =='n') & (d1['dir'] =='-'))) & (d1['change'] < 0)].sort_values('change')[:10])\n",
    "print(\"main disconfirming factors:\")\n",
    "print(d1[(((d1['type'] =='b') & (d1['dir'] =='-')) | ((d1['type'] =='n') & (d1['dir'] =='-'))) & (d1['change'] > 0)].sort_values('change')[-10:])\n"
   ]
  },
  {
   "cell_type": "code",
   "execution_count": 72,
   "metadata": {},
   "outputs": [
    {
     "name": "stdout",
     "output_type": "stream",
     "text": [
      "main confirming factors -- the numbers indicate probability in the case thee factors were not present:\n",
      "      type  changed_var dir    prob  change\n",
      "24418    b       ELIX21   -  0.0200 -0.0800\n",
      "24418    b       ELIX13   -  0.0425 -0.0575\n",
      "24418    n   drugs_m4-5   -  0.0600 -0.0400\n",
      "24418    n  drugs_m9-10   -  0.0600 -0.0400\n",
      "24418    b         G-21   -  0.0600 -0.0400\n",
      "24418    b         G-22   -  0.0700 -0.0300\n",
      "24418    b        ELIX9   -  0.0700 -0.0300\n",
      "24418    n   drugs_m0-1   -  0.0900 -0.0100\n",
      "24418    b         G-18   -  0.0900 -0.0100\n",
      "main disconfirming factors:\n",
      "      type   changed_var dir   prob  change\n",
      "24418    b        ELIX27   -  0.110   0.010\n",
      "24418    b           G-2   -  0.110   0.010\n",
      "24418    n  drugs_m11-12   -  0.110   0.010\n",
      "24418    n    drugs_m7-8   -  0.110   0.010\n",
      "24418    b        ELIX26   -  0.120   0.020\n",
      "24418    n    drugs_m6-7   -  0.125   0.025\n",
      "24418    b          G-11   -  0.130   0.030\n",
      "24418    n    drugs_m3-4   -  0.130   0.030\n"
     ]
    }
   ],
   "source": [
    "print(\"main confirming factors -- the numbers indicate probability in the case thee factors were not present:\")\n",
    "print(d2[(((d2['type'] =='b') & (d2['dir'] =='-')) | ((d2['type'] =='n') & (d2['dir'] =='-'))) & (d2['change'] < 0)].sort_values('change')[:10])\n",
    "print(\"main disconfirming factors:\")\n",
    "print(d2[(((d2['type'] =='b') & (d2['dir'] =='-')) | ((d2['type'] =='n') & (d2['dir'] =='-'))) & (d2['change'] > 0)].sort_values('change')[-10:])\n"
   ]
  }
 ],
 "metadata": {
  "kernelspec": {
   "display_name": "Python 3",
   "language": "python",
   "name": "python3"
  },
  "language_info": {
   "codemirror_mode": {
    "name": "ipython",
    "version": 3
   },
   "file_extension": ".py",
   "mimetype": "text/x-python",
   "name": "python",
   "nbconvert_exporter": "python",
   "pygments_lexer": "ipython3",
   "version": "3.7.6"
  }
 },
 "nbformat": 4,
 "nbformat_minor": 4
}
